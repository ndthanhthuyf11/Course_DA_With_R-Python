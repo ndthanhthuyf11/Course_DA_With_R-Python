{
 "cells": [
  {
   "cell_type": "code",
   "execution_count": 2,
   "metadata": {},
   "outputs": [],
   "source": [
    "import requests\n",
    "import pandas as pd"
   ]
  },
  {
   "cell_type": "code",
   "execution_count": 17,
   "metadata": {},
   "outputs": [
    {
     "name": "stdout",
     "output_type": "stream",
     "text": [
      "         date  states    positive    negative  pending  hospitalizedCurrently  \\\n",
      "0    20210307      56  28756489.0  74582825.0  11808.0                40199.0   \n",
      "1    20210306      56  28714654.0  74450990.0  11783.0                41401.0   \n",
      "2    20210305      56  28654639.0  74307155.0  12213.0                42541.0   \n",
      "3    20210304      56  28585852.0  74035238.0  12405.0                44172.0   \n",
      "4    20210303      56  28520365.0  73857281.0  11778.0                45462.0   \n",
      "..        ...     ...         ...         ...      ...                    ...   \n",
      "415  20200117       1         0.0         NaN      NaN                    NaN   \n",
      "416  20200116       1         0.0         NaN      NaN                    NaN   \n",
      "417  20200115       1         0.0         NaN      NaN                    NaN   \n",
      "418  20200114       1         0.0         NaN      NaN                    NaN   \n",
      "419  20200113       1         NaN         NaN      NaN                    NaN   \n",
      "\n",
      "     hospitalizedCumulative  inIcuCurrently  inIcuCumulative  \\\n",
      "0                  776361.0          8134.0          45475.0   \n",
      "1                  775635.0          8409.0          45453.0   \n",
      "2                  775132.0          8634.0          45373.0   \n",
      "3                  772351.0          8970.0          45293.0   \n",
      "4                  770821.0          9359.0          45214.0   \n",
      "..                      ...             ...              ...   \n",
      "415                     NaN             NaN              NaN   \n",
      "416                     NaN             NaN              NaN   \n",
      "417                     NaN             NaN              NaN   \n",
      "418                     NaN             NaN              NaN   \n",
      "419                     NaN             NaN              NaN   \n",
      "\n",
      "     onVentilatorCurrently  ...          lastModified recovered  total  \\\n",
      "0                   2802.0  ...  2021-03-07T24:00:00Z      None      0   \n",
      "1                   2811.0  ...  2021-03-06T24:00:00Z      None      0   \n",
      "2                   2889.0  ...  2021-03-05T24:00:00Z      None      0   \n",
      "3                   2973.0  ...  2021-03-04T24:00:00Z      None      0   \n",
      "4                   3094.0  ...  2021-03-03T24:00:00Z      None      0   \n",
      "..                     ...  ...                   ...       ...    ...   \n",
      "415                    NaN  ...  2020-01-17T24:00:00Z      None      0   \n",
      "416                    NaN  ...  2020-01-16T24:00:00Z      None      0   \n",
      "417                    NaN  ...  2020-01-15T24:00:00Z      None      0   \n",
      "418                    NaN  ...  2020-01-14T24:00:00Z      None      0   \n",
      "419                    NaN  ...  2020-01-13T24:00:00Z      None      0   \n",
      "\n",
      "     posNeg  deathIncrease hospitalizedIncrease negativeIncrease  \\\n",
      "0         0            842                  726           131835   \n",
      "1         0           1680                  503           143835   \n",
      "2         0           2221                 2781           271917   \n",
      "3         0           1743                 1530           177957   \n",
      "4         0           2449                 2172           267001   \n",
      "..      ...            ...                  ...              ...   \n",
      "415       0              0                    0                0   \n",
      "416       0              0                    0                0   \n",
      "417       0              0                    0                0   \n",
      "418       0              0                    0                0   \n",
      "419       0              0                    0                0   \n",
      "\n",
      "     positiveIncrease  totalTestResultsIncrease  \\\n",
      "0               41835                   1170059   \n",
      "1               60015                   1430992   \n",
      "2               68787                   1744417   \n",
      "3               65487                   1590984   \n",
      "4               66836                   1406795   \n",
      "..                ...                       ...   \n",
      "415                 0                         0   \n",
      "416                 0                         0   \n",
      "417                 0                         0   \n",
      "418                 0                         0   \n",
      "419                 0                         0   \n",
      "\n",
      "                                         hash  \n",
      "0    a80d0063822e251249fd9a44730c49cb23defd83  \n",
      "1    dae5e558c24adb86686bbd58c08cce5f610b8bb0  \n",
      "2    724844c01659d0103801c57c0f72bf8cc8ab025c  \n",
      "3    5c549ad30f9abf48dc5de36d20fa707014be1ff3  \n",
      "4    fef6c425d2b773a9221fe353f13852f3e4a4bfb0  \n",
      "..                                        ...  \n",
      "415  5fd7ed7fb0f83565ea0aaaf5ff6104e5860be2d6  \n",
      "416  4c0f2ea879eefec1a18a93bcd8a382ea56cd452d  \n",
      "417  8a449023413eea473277416e9e30ae126c6af047  \n",
      "418  fe399466a3dfbe0221a18ed5cacb39a3882d72f8  \n",
      "419  5672debf187b183735be63f6bd85834ead0047ff  \n",
      "\n",
      "[420 rows x 25 columns]\n"
     ]
    }
   ],
   "source": [
    "url = \"https://api.covidtracking.com/v1/us/daily.json\"\n",
    "\n",
    "payload={}\n",
    "headers = {}\n",
    "\n",
    "response = requests.request(\"GET\", url, headers=headers, data=payload)\n",
    "\n",
    "if response.status_code == 200:\n",
    "    df_covid = pd.DataFrame(response.json())\n",
    "    print(df_covid)\n",
    "else:\n",
    "    print('Truy xuất bị lỗi - {response.status_code}, vui lòng thử lại sau')\n",
    "# print(response)\n",
    "# print(response.text)"
   ]
  },
  {
   "cell_type": "code",
   "execution_count": 4,
   "metadata": {},
   "outputs": [
    {
     "name": "stdout",
     "output_type": "stream",
     "text": [
      "<class 'pandas.core.frame.DataFrame'>\n",
      "RangeIndex: 420 entries, 0 to 419\n",
      "Data columns (total 25 columns):\n",
      " #   Column                    Non-Null Count  Dtype  \n",
      "---  ------                    --------------  -----  \n",
      " 0   date                      420 non-null    int64  \n",
      " 1   states                    420 non-null    int64  \n",
      " 2   positive                  419 non-null    float64\n",
      " 3   negative                  372 non-null    float64\n",
      " 4   pending                   369 non-null    float64\n",
      " 5   hospitalizedCurrently     356 non-null    float64\n",
      " 6   hospitalizedCumulative    369 non-null    float64\n",
      " 7   inIcuCurrently            347 non-null    float64\n",
      " 8   inIcuCumulative           348 non-null    float64\n",
      " 9   onVentilatorCurrently     348 non-null    float64\n",
      " 10  onVentilatorCumulative    341 non-null    float64\n",
      " 11  dateChecked               420 non-null    object \n",
      " 12  death                     392 non-null    float64\n",
      " 13  hospitalized              369 non-null    float64\n",
      " 14  totalTestResults          420 non-null    int64  \n",
      " 15  lastModified              420 non-null    object \n",
      " 16  recovered                 0 non-null      object \n",
      " 17  total                     420 non-null    int64  \n",
      " 18  posNeg                    420 non-null    int64  \n",
      " 19  deathIncrease             420 non-null    int64  \n",
      " 20  hospitalizedIncrease      420 non-null    int64  \n",
      " 21  negativeIncrease          420 non-null    int64  \n",
      " 22  positiveIncrease          420 non-null    int64  \n",
      " 23  totalTestResultsIncrease  420 non-null    int64  \n",
      " 24  hash                      420 non-null    object \n",
      "dtypes: float64(11), int64(10), object(4)\n",
      "memory usage: 82.2+ KB\n"
     ]
    }
   ],
   "source": [
    "df_covid.info()"
   ]
  },
  {
   "cell_type": "code",
   "execution_count": 18,
   "metadata": {},
   "outputs": [
    {
     "data": {
      "text/html": [
       "<div>\n",
       "<style scoped>\n",
       "    .dataframe tbody tr th:only-of-type {\n",
       "        vertical-align: middle;\n",
       "    }\n",
       "\n",
       "    .dataframe tbody tr th {\n",
       "        vertical-align: top;\n",
       "    }\n",
       "\n",
       "    .dataframe thead th {\n",
       "        text-align: right;\n",
       "    }\n",
       "</style>\n",
       "<table border=\"1\" class=\"dataframe\">\n",
       "  <thead>\n",
       "    <tr style=\"text-align: right;\">\n",
       "      <th></th>\n",
       "      <th>date</th>\n",
       "      <th>states</th>\n",
       "      <th>positive</th>\n",
       "      <th>negative</th>\n",
       "      <th>pending</th>\n",
       "      <th>hospitalizedCurrently</th>\n",
       "      <th>hospitalizedCumulative</th>\n",
       "      <th>inIcuCurrently</th>\n",
       "      <th>inIcuCumulative</th>\n",
       "      <th>onVentilatorCurrently</th>\n",
       "      <th>...</th>\n",
       "      <th>lastModified</th>\n",
       "      <th>recovered</th>\n",
       "      <th>total</th>\n",
       "      <th>posNeg</th>\n",
       "      <th>deathIncrease</th>\n",
       "      <th>hospitalizedIncrease</th>\n",
       "      <th>negativeIncrease</th>\n",
       "      <th>positiveIncrease</th>\n",
       "      <th>totalTestResultsIncrease</th>\n",
       "      <th>hash</th>\n",
       "    </tr>\n",
       "  </thead>\n",
       "  <tbody>\n",
       "    <tr>\n",
       "      <th>0</th>\n",
       "      <td>2021-03-07</td>\n",
       "      <td>56</td>\n",
       "      <td>28756489.0</td>\n",
       "      <td>74582825.0</td>\n",
       "      <td>11808.0</td>\n",
       "      <td>40199.0</td>\n",
       "      <td>776361.0</td>\n",
       "      <td>8134.0</td>\n",
       "      <td>45475.0</td>\n",
       "      <td>2802.0</td>\n",
       "      <td>...</td>\n",
       "      <td>2021-03-07T24:00:00Z</td>\n",
       "      <td>None</td>\n",
       "      <td>0</td>\n",
       "      <td>0</td>\n",
       "      <td>842</td>\n",
       "      <td>726</td>\n",
       "      <td>131835</td>\n",
       "      <td>41835</td>\n",
       "      <td>1170059</td>\n",
       "      <td>a80d0063822e251249fd9a44730c49cb23defd83</td>\n",
       "    </tr>\n",
       "    <tr>\n",
       "      <th>1</th>\n",
       "      <td>2021-03-06</td>\n",
       "      <td>56</td>\n",
       "      <td>28714654.0</td>\n",
       "      <td>74450990.0</td>\n",
       "      <td>11783.0</td>\n",
       "      <td>41401.0</td>\n",
       "      <td>775635.0</td>\n",
       "      <td>8409.0</td>\n",
       "      <td>45453.0</td>\n",
       "      <td>2811.0</td>\n",
       "      <td>...</td>\n",
       "      <td>2021-03-06T24:00:00Z</td>\n",
       "      <td>None</td>\n",
       "      <td>0</td>\n",
       "      <td>0</td>\n",
       "      <td>1680</td>\n",
       "      <td>503</td>\n",
       "      <td>143835</td>\n",
       "      <td>60015</td>\n",
       "      <td>1430992</td>\n",
       "      <td>dae5e558c24adb86686bbd58c08cce5f610b8bb0</td>\n",
       "    </tr>\n",
       "    <tr>\n",
       "      <th>2</th>\n",
       "      <td>2021-03-05</td>\n",
       "      <td>56</td>\n",
       "      <td>28654639.0</td>\n",
       "      <td>74307155.0</td>\n",
       "      <td>12213.0</td>\n",
       "      <td>42541.0</td>\n",
       "      <td>775132.0</td>\n",
       "      <td>8634.0</td>\n",
       "      <td>45373.0</td>\n",
       "      <td>2889.0</td>\n",
       "      <td>...</td>\n",
       "      <td>2021-03-05T24:00:00Z</td>\n",
       "      <td>None</td>\n",
       "      <td>0</td>\n",
       "      <td>0</td>\n",
       "      <td>2221</td>\n",
       "      <td>2781</td>\n",
       "      <td>271917</td>\n",
       "      <td>68787</td>\n",
       "      <td>1744417</td>\n",
       "      <td>724844c01659d0103801c57c0f72bf8cc8ab025c</td>\n",
       "    </tr>\n",
       "    <tr>\n",
       "      <th>3</th>\n",
       "      <td>2021-03-04</td>\n",
       "      <td>56</td>\n",
       "      <td>28585852.0</td>\n",
       "      <td>74035238.0</td>\n",
       "      <td>12405.0</td>\n",
       "      <td>44172.0</td>\n",
       "      <td>772351.0</td>\n",
       "      <td>8970.0</td>\n",
       "      <td>45293.0</td>\n",
       "      <td>2973.0</td>\n",
       "      <td>...</td>\n",
       "      <td>2021-03-04T24:00:00Z</td>\n",
       "      <td>None</td>\n",
       "      <td>0</td>\n",
       "      <td>0</td>\n",
       "      <td>1743</td>\n",
       "      <td>1530</td>\n",
       "      <td>177957</td>\n",
       "      <td>65487</td>\n",
       "      <td>1590984</td>\n",
       "      <td>5c549ad30f9abf48dc5de36d20fa707014be1ff3</td>\n",
       "    </tr>\n",
       "    <tr>\n",
       "      <th>4</th>\n",
       "      <td>2021-03-03</td>\n",
       "      <td>56</td>\n",
       "      <td>28520365.0</td>\n",
       "      <td>73857281.0</td>\n",
       "      <td>11778.0</td>\n",
       "      <td>45462.0</td>\n",
       "      <td>770821.0</td>\n",
       "      <td>9359.0</td>\n",
       "      <td>45214.0</td>\n",
       "      <td>3094.0</td>\n",
       "      <td>...</td>\n",
       "      <td>2021-03-03T24:00:00Z</td>\n",
       "      <td>None</td>\n",
       "      <td>0</td>\n",
       "      <td>0</td>\n",
       "      <td>2449</td>\n",
       "      <td>2172</td>\n",
       "      <td>267001</td>\n",
       "      <td>66836</td>\n",
       "      <td>1406795</td>\n",
       "      <td>fef6c425d2b773a9221fe353f13852f3e4a4bfb0</td>\n",
       "    </tr>\n",
       "  </tbody>\n",
       "</table>\n",
       "<p>5 rows × 25 columns</p>\n",
       "</div>"
      ],
      "text/plain": [
       "        date  states    positive    negative  pending  hospitalizedCurrently  \\\n",
       "0 2021-03-07      56  28756489.0  74582825.0  11808.0                40199.0   \n",
       "1 2021-03-06      56  28714654.0  74450990.0  11783.0                41401.0   \n",
       "2 2021-03-05      56  28654639.0  74307155.0  12213.0                42541.0   \n",
       "3 2021-03-04      56  28585852.0  74035238.0  12405.0                44172.0   \n",
       "4 2021-03-03      56  28520365.0  73857281.0  11778.0                45462.0   \n",
       "\n",
       "   hospitalizedCumulative  inIcuCurrently  inIcuCumulative  \\\n",
       "0                776361.0          8134.0          45475.0   \n",
       "1                775635.0          8409.0          45453.0   \n",
       "2                775132.0          8634.0          45373.0   \n",
       "3                772351.0          8970.0          45293.0   \n",
       "4                770821.0          9359.0          45214.0   \n",
       "\n",
       "   onVentilatorCurrently  ...          lastModified recovered  total  posNeg  \\\n",
       "0                 2802.0  ...  2021-03-07T24:00:00Z      None      0       0   \n",
       "1                 2811.0  ...  2021-03-06T24:00:00Z      None      0       0   \n",
       "2                 2889.0  ...  2021-03-05T24:00:00Z      None      0       0   \n",
       "3                 2973.0  ...  2021-03-04T24:00:00Z      None      0       0   \n",
       "4                 3094.0  ...  2021-03-03T24:00:00Z      None      0       0   \n",
       "\n",
       "   deathIncrease hospitalizedIncrease negativeIncrease  positiveIncrease  \\\n",
       "0            842                  726           131835             41835   \n",
       "1           1680                  503           143835             60015   \n",
       "2           2221                 2781           271917             68787   \n",
       "3           1743                 1530           177957             65487   \n",
       "4           2449                 2172           267001             66836   \n",
       "\n",
       "   totalTestResultsIncrease                                      hash  \n",
       "0                   1170059  a80d0063822e251249fd9a44730c49cb23defd83  \n",
       "1                   1430992  dae5e558c24adb86686bbd58c08cce5f610b8bb0  \n",
       "2                   1744417  724844c01659d0103801c57c0f72bf8cc8ab025c  \n",
       "3                   1590984  5c549ad30f9abf48dc5de36d20fa707014be1ff3  \n",
       "4                   1406795  fef6c425d2b773a9221fe353f13852f3e4a4bfb0  \n",
       "\n",
       "[5 rows x 25 columns]"
      ]
     },
     "execution_count": 18,
     "metadata": {},
     "output_type": "execute_result"
    }
   ],
   "source": [
    "df_covid['date'] = pd.to_datetime(df_covid['date'], format='%Y%m%d')\n",
    "df_covid.head()"
   ]
  },
  {
   "cell_type": "markdown",
   "metadata": {},
   "source": [
    "Ngày bé nhất"
   ]
  },
  {
   "cell_type": "code",
   "execution_count": 6,
   "metadata": {},
   "outputs": [
    {
     "data": {
      "text/plain": [
       "Timestamp('2020-01-13 00:00:00')"
      ]
     },
     "execution_count": 6,
     "metadata": {},
     "output_type": "execute_result"
    }
   ],
   "source": [
    "df_covid['date'].min()"
   ]
  },
  {
   "cell_type": "markdown",
   "metadata": {},
   "source": [
    "Ngày lớn nhất"
   ]
  },
  {
   "cell_type": "code",
   "execution_count": 7,
   "metadata": {},
   "outputs": [
    {
     "data": {
      "text/plain": [
       "Timestamp('2021-03-07 00:00:00')"
      ]
     },
     "execution_count": 7,
     "metadata": {},
     "output_type": "execute_result"
    }
   ],
   "source": [
    "df_covid['date'].max()"
   ]
  },
  {
   "cell_type": "markdown",
   "metadata": {},
   "source": [
    "Tổng các date trong df"
   ]
  },
  {
   "cell_type": "code",
   "execution_count": 8,
   "metadata": {},
   "outputs": [
    {
     "data": {
      "text/plain": [
       "420"
      ]
     },
     "execution_count": 8,
     "metadata": {},
     "output_type": "execute_result"
    }
   ],
   "source": [
    "df_covid['date'].nunique()"
   ]
  },
  {
   "cell_type": "markdown",
   "metadata": {},
   "source": [
    "Lưu file về local"
   ]
  },
  {
   "cell_type": "code",
   "execution_count": 9,
   "metadata": {},
   "outputs": [],
   "source": [
    "df_covid.to_csv('covid_dataset.csv', index = False)"
   ]
  },
  {
   "cell_type": "markdown",
   "metadata": {},
   "source": [
    "state là số chẵn -> dealths = dealths/2\n",
    "\n",
    "state lẻ -> dealths = dealth*3"
   ]
  },
  {
   "cell_type": "code",
   "execution_count": 29,
   "metadata": {},
   "outputs": [],
   "source": [
    "for i, r in df_covid.iterrows():\n",
    "    if r['states'] % 2 == 0:\n",
    "        df_covid.at[i, 'death'] = r.death/2\n",
    "    else:\n",
    "        df_covid.at[i, 'death'] = r.death*3\n"
   ]
  },
  {
   "cell_type": "code",
   "execution_count": 30,
   "metadata": {},
   "outputs": [
    {
     "data": {
      "text/plain": [
       "0      1545453.0\n",
       "1      1542927.0\n",
       "2      1537887.0\n",
       "3      1531224.0\n",
       "4      1525995.0\n",
       "         ...    \n",
       "415          NaN\n",
       "416          NaN\n",
       "417          NaN\n",
       "418          NaN\n",
       "419          NaN\n",
       "Name: death, Length: 420, dtype: float64"
      ]
     },
     "execution_count": 30,
     "metadata": {},
     "output_type": "execute_result"
    }
   ],
   "source": [
    "df_covid.death"
   ]
  },
  {
   "cell_type": "markdown",
   "metadata": {},
   "source": [
    "C2"
   ]
  },
  {
   "cell_type": "code",
   "execution_count": null,
   "metadata": {},
   "outputs": [],
   "source": [
    "def check_death(row):\n",
    "    if int(row['state']) % 2 == 0:\n",
    "        return row['death'] / 2\n",
    "    else:\n",
    "        return row['death'] * 2"
   ]
  },
  {
   "cell_type": "code",
   "execution_count": null,
   "metadata": {},
   "outputs": [],
   "source": [
    "df_covid['death']=df_covid.apply(check_death, axis = 1)\n",
    "df_covid[['states', 'death']]"
   ]
  }
 ],
 "metadata": {
  "kernelspec": {
   "display_name": "Python 3.9.12 ('base')",
   "language": "python",
   "name": "python3"
  },
  "language_info": {
   "codemirror_mode": {
    "name": "ipython",
    "version": 3
   },
   "file_extension": ".py",
   "mimetype": "text/x-python",
   "name": "python",
   "nbconvert_exporter": "python",
   "pygments_lexer": "ipython3",
   "version": "3.9.12"
  },
  "orig_nbformat": 4,
  "vscode": {
   "interpreter": {
    "hash": "dc07d24e2f18896857f0b2a651fe84ba40ce7b297e58d8804a308c8039f752a6"
   }
  }
 },
 "nbformat": 4,
 "nbformat_minor": 2
}
