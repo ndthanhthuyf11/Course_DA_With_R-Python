{
 "cells": [
  {
   "cell_type": "code",
   "execution_count": 1,
   "metadata": {},
   "outputs": [],
   "source": [
    "import pandas as pd\n",
    "import numpy as np\n",
    "import matplotlib.pyplot as plt\n",
    "import requests"
   ]
  },
  {
   "cell_type": "markdown",
   "metadata": {},
   "source": [
    "1. Đọc dữ liệu từ file đã tải xuống và hiển thị dữ liệu từ dòng thứ 15 đến dòng thứ 30"
   ]
  },
  {
   "cell_type": "code",
   "execution_count": 11,
   "metadata": {},
   "outputs": [
    {
     "data": {
      "text/html": [
       "<div>\n",
       "<style scoped>\n",
       "    .dataframe tbody tr th:only-of-type {\n",
       "        vertical-align: middle;\n",
       "    }\n",
       "\n",
       "    .dataframe tbody tr th {\n",
       "        vertical-align: top;\n",
       "    }\n",
       "\n",
       "    .dataframe thead th {\n",
       "        text-align: right;\n",
       "    }\n",
       "</style>\n",
       "<table border=\"1\" class=\"dataframe\">\n",
       "  <thead>\n",
       "    <tr style=\"text-align: right;\">\n",
       "      <th></th>\n",
       "      <th>gender</th>\n",
       "      <th>group</th>\n",
       "      <th>parental level of education</th>\n",
       "      <th>lunch</th>\n",
       "      <th>english certification</th>\n",
       "      <th>math score</th>\n",
       "      <th>basic informatics score</th>\n",
       "      <th>programming techniques score</th>\n",
       "      <th>code</th>\n",
       "      <th>name</th>\n",
       "    </tr>\n",
       "  </thead>\n",
       "  <tbody>\n",
       "    <tr>\n",
       "      <th>14</th>\n",
       "      <td>female</td>\n",
       "      <td>group A</td>\n",
       "      <td>master's degree</td>\n",
       "      <td>standard</td>\n",
       "      <td>none</td>\n",
       "      <td>50</td>\n",
       "      <td>53</td>\n",
       "      <td>58</td>\n",
       "      <td>15</td>\n",
       "      <td>sleazy silver okapi</td>\n",
       "    </tr>\n",
       "    <tr>\n",
       "      <th>15</th>\n",
       "      <td>female</td>\n",
       "      <td>group C</td>\n",
       "      <td>some high school</td>\n",
       "      <td>standard</td>\n",
       "      <td>none</td>\n",
       "      <td>69</td>\n",
       "      <td>75</td>\n",
       "      <td>78</td>\n",
       "      <td>16</td>\n",
       "      <td>cozy magnolia turtle</td>\n",
       "    </tr>\n",
       "    <tr>\n",
       "      <th>16</th>\n",
       "      <td>male</td>\n",
       "      <td>group C</td>\n",
       "      <td>high school</td>\n",
       "      <td>standard</td>\n",
       "      <td>none</td>\n",
       "      <td>88</td>\n",
       "      <td>89</td>\n",
       "      <td>86</td>\n",
       "      <td>17</td>\n",
       "      <td>seedy red chipmunk</td>\n",
       "    </tr>\n",
       "    <tr>\n",
       "      <th>17</th>\n",
       "      <td>female</td>\n",
       "      <td>group B</td>\n",
       "      <td>some high school</td>\n",
       "      <td>free/reduced</td>\n",
       "      <td>none</td>\n",
       "      <td>18</td>\n",
       "      <td>32</td>\n",
       "      <td>28</td>\n",
       "      <td>18</td>\n",
       "      <td>wimpy amaranth uakari</td>\n",
       "    </tr>\n",
       "    <tr>\n",
       "      <th>18</th>\n",
       "      <td>male</td>\n",
       "      <td>group C</td>\n",
       "      <td>master's degree</td>\n",
       "      <td>free/reduced</td>\n",
       "      <td>completed</td>\n",
       "      <td>46</td>\n",
       "      <td>42</td>\n",
       "      <td>46</td>\n",
       "      <td>19</td>\n",
       "      <td>scanty emerald fousek</td>\n",
       "    </tr>\n",
       "    <tr>\n",
       "      <th>19</th>\n",
       "      <td>female</td>\n",
       "      <td>group C</td>\n",
       "      <td>associate's degree</td>\n",
       "      <td>free/reduced</td>\n",
       "      <td>none</td>\n",
       "      <td>54</td>\n",
       "      <td>58</td>\n",
       "      <td>61</td>\n",
       "      <td>20</td>\n",
       "      <td>wheezy lilac bee</td>\n",
       "    </tr>\n",
       "    <tr>\n",
       "      <th>20</th>\n",
       "      <td>male</td>\n",
       "      <td>group D</td>\n",
       "      <td>high school</td>\n",
       "      <td>standard</td>\n",
       "      <td>none</td>\n",
       "      <td>66</td>\n",
       "      <td>69</td>\n",
       "      <td>63</td>\n",
       "      <td>21</td>\n",
       "      <td>wheezy purple macaw</td>\n",
       "    </tr>\n",
       "    <tr>\n",
       "      <th>21</th>\n",
       "      <td>female</td>\n",
       "      <td>group B</td>\n",
       "      <td>some college</td>\n",
       "      <td>free/reduced</td>\n",
       "      <td>completed</td>\n",
       "      <td>65</td>\n",
       "      <td>75</td>\n",
       "      <td>70</td>\n",
       "      <td>22</td>\n",
       "      <td>gamy gamboge barracuda</td>\n",
       "    </tr>\n",
       "    <tr>\n",
       "      <th>22</th>\n",
       "      <td>male</td>\n",
       "      <td>group D</td>\n",
       "      <td>some college</td>\n",
       "      <td>standard</td>\n",
       "      <td>none</td>\n",
       "      <td>44</td>\n",
       "      <td>54</td>\n",
       "      <td>53</td>\n",
       "      <td>23</td>\n",
       "      <td>geeky chocolate dolphin</td>\n",
       "    </tr>\n",
       "    <tr>\n",
       "      <th>23</th>\n",
       "      <td>female</td>\n",
       "      <td>group C</td>\n",
       "      <td>some high school</td>\n",
       "      <td>standard</td>\n",
       "      <td>none</td>\n",
       "      <td>69</td>\n",
       "      <td>73</td>\n",
       "      <td>73</td>\n",
       "      <td>24</td>\n",
       "      <td>freaky buff lionfish</td>\n",
       "    </tr>\n",
       "    <tr>\n",
       "      <th>24</th>\n",
       "      <td>male</td>\n",
       "      <td>group D</td>\n",
       "      <td>bachelor's degree</td>\n",
       "      <td>free/reduced</td>\n",
       "      <td>completed</td>\n",
       "      <td>74</td>\n",
       "      <td>71</td>\n",
       "      <td>80</td>\n",
       "      <td>25</td>\n",
       "      <td>thirsty ochre frigatebird</td>\n",
       "    </tr>\n",
       "    <tr>\n",
       "      <th>25</th>\n",
       "      <td>male</td>\n",
       "      <td>group A</td>\n",
       "      <td>master's degree</td>\n",
       "      <td>free/reduced</td>\n",
       "      <td>none</td>\n",
       "      <td>73</td>\n",
       "      <td>74</td>\n",
       "      <td>72</td>\n",
       "      <td>26</td>\n",
       "      <td>stealthy khaki discus</td>\n",
       "    </tr>\n",
       "    <tr>\n",
       "      <th>26</th>\n",
       "      <td>male</td>\n",
       "      <td>group B</td>\n",
       "      <td>some college</td>\n",
       "      <td>standard</td>\n",
       "      <td>none</td>\n",
       "      <td>69</td>\n",
       "      <td>54</td>\n",
       "      <td>55</td>\n",
       "      <td>27</td>\n",
       "      <td>greasy apricot chimpanzee</td>\n",
       "    </tr>\n",
       "    <tr>\n",
       "      <th>27</th>\n",
       "      <td>female</td>\n",
       "      <td>group C</td>\n",
       "      <td>bachelor's degree</td>\n",
       "      <td>standard</td>\n",
       "      <td>none</td>\n",
       "      <td>67</td>\n",
       "      <td>69</td>\n",
       "      <td>75</td>\n",
       "      <td>28</td>\n",
       "      <td>sloppy vermilion mastiff</td>\n",
       "    </tr>\n",
       "    <tr>\n",
       "      <th>28</th>\n",
       "      <td>male</td>\n",
       "      <td>group C</td>\n",
       "      <td>high school</td>\n",
       "      <td>standard</td>\n",
       "      <td>none</td>\n",
       "      <td>70</td>\n",
       "      <td>70</td>\n",
       "      <td>65</td>\n",
       "      <td>29</td>\n",
       "      <td>breezy violet akbash</td>\n",
       "    </tr>\n",
       "    <tr>\n",
       "      <th>29</th>\n",
       "      <td>female</td>\n",
       "      <td>group D</td>\n",
       "      <td>master's degree</td>\n",
       "      <td>standard</td>\n",
       "      <td>none</td>\n",
       "      <td>62</td>\n",
       "      <td>70</td>\n",
       "      <td>75</td>\n",
       "      <td>30</td>\n",
       "      <td>gamy amaranth caracal</td>\n",
       "    </tr>\n",
       "  </tbody>\n",
       "</table>\n",
       "</div>"
      ],
      "text/plain": [
       "    gender    group parental level of education         lunch  \\\n",
       "14  female  group A             master's degree      standard   \n",
       "15  female  group C            some high school      standard   \n",
       "16    male  group C                 high school      standard   \n",
       "17  female  group B            some high school  free/reduced   \n",
       "18    male  group C             master's degree  free/reduced   \n",
       "19  female  group C          associate's degree  free/reduced   \n",
       "20    male  group D                 high school      standard   \n",
       "21  female  group B                some college  free/reduced   \n",
       "22    male  group D                some college      standard   \n",
       "23  female  group C            some high school      standard   \n",
       "24    male  group D           bachelor's degree  free/reduced   \n",
       "25    male  group A             master's degree  free/reduced   \n",
       "26    male  group B                some college      standard   \n",
       "27  female  group C           bachelor's degree      standard   \n",
       "28    male  group C                 high school      standard   \n",
       "29  female  group D             master's degree      standard   \n",
       "\n",
       "   english certification  math score  basic informatics score  \\\n",
       "14                  none          50                       53   \n",
       "15                  none          69                       75   \n",
       "16                  none          88                       89   \n",
       "17                  none          18                       32   \n",
       "18             completed          46                       42   \n",
       "19                  none          54                       58   \n",
       "20                  none          66                       69   \n",
       "21             completed          65                       75   \n",
       "22                  none          44                       54   \n",
       "23                  none          69                       73   \n",
       "24             completed          74                       71   \n",
       "25                  none          73                       74   \n",
       "26                  none          69                       54   \n",
       "27                  none          67                       69   \n",
       "28                  none          70                       70   \n",
       "29                  none          62                       70   \n",
       "\n",
       "    programming techniques score  code                       name  \n",
       "14                            58    15        sleazy silver okapi  \n",
       "15                            78    16       cozy magnolia turtle  \n",
       "16                            86    17         seedy red chipmunk  \n",
       "17                            28    18      wimpy amaranth uakari  \n",
       "18                            46    19      scanty emerald fousek  \n",
       "19                            61    20           wheezy lilac bee  \n",
       "20                            63    21        wheezy purple macaw  \n",
       "21                            70    22     gamy gamboge barracuda  \n",
       "22                            53    23    geeky chocolate dolphin  \n",
       "23                            73    24       freaky buff lionfish  \n",
       "24                            80    25  thirsty ochre frigatebird  \n",
       "25                            72    26      stealthy khaki discus  \n",
       "26                            55    27  greasy apricot chimpanzee  \n",
       "27                            75    28   sloppy vermilion mastiff  \n",
       "28                            65    29       breezy violet akbash  \n",
       "29                            75    30      gamy amaranth caracal  "
      ]
     },
     "execution_count": 11,
     "metadata": {},
     "output_type": "execute_result"
    }
   ],
   "source": [
    "df = pd.read_csv('students.csv')\n",
    "df.loc[14:29]"
   ]
  },
  {
   "cell_type": "code",
   "execution_count": 12,
   "metadata": {},
   "outputs": [
    {
     "name": "stdout",
     "output_type": "stream",
     "text": [
      "<class 'pandas.core.frame.DataFrame'>\n",
      "RangeIndex: 1000 entries, 0 to 999\n",
      "Data columns (total 10 columns):\n",
      " #   Column                        Non-Null Count  Dtype \n",
      "---  ------                        --------------  ----- \n",
      " 0   gender                        1000 non-null   object\n",
      " 1   group                         1000 non-null   object\n",
      " 2   parental level of education   1000 non-null   object\n",
      " 3   lunch                         1000 non-null   object\n",
      " 4   english certification         1000 non-null   object\n",
      " 5   math score                    1000 non-null   int64 \n",
      " 6   basic informatics score       1000 non-null   int64 \n",
      " 7   programming techniques score  1000 non-null   int64 \n",
      " 8   code                          1000 non-null   int64 \n",
      " 9   name                          1000 non-null   object\n",
      "dtypes: int64(4), object(6)\n",
      "memory usage: 78.2+ KB\n"
     ]
    }
   ],
   "source": [
    "df.info()"
   ]
  },
  {
   "cell_type": "markdown",
   "metadata": {},
   "source": [
    "2. Thay thế thông tin “gender”, “english certification”, “math score”, “basic informatics\n",
    "score”, “programming techniques score”, “code” và “name” của sinh viên đầu tiên trong\n",
    "tập dữ liệu bằng chính thông tin của Anh/Chị."
   ]
  },
  {
   "cell_type": "code",
   "execution_count": 13,
   "metadata": {},
   "outputs": [
    {
     "data": {
      "text/html": [
       "<div>\n",
       "<style scoped>\n",
       "    .dataframe tbody tr th:only-of-type {\n",
       "        vertical-align: middle;\n",
       "    }\n",
       "\n",
       "    .dataframe tbody tr th {\n",
       "        vertical-align: top;\n",
       "    }\n",
       "\n",
       "    .dataframe thead th {\n",
       "        text-align: right;\n",
       "    }\n",
       "</style>\n",
       "<table border=\"1\" class=\"dataframe\">\n",
       "  <thead>\n",
       "    <tr style=\"text-align: right;\">\n",
       "      <th></th>\n",
       "      <th>gender</th>\n",
       "      <th>group</th>\n",
       "      <th>parental level of education</th>\n",
       "      <th>lunch</th>\n",
       "      <th>english certification</th>\n",
       "      <th>math score</th>\n",
       "      <th>basic informatics score</th>\n",
       "      <th>programming techniques score</th>\n",
       "      <th>code</th>\n",
       "      <th>name</th>\n",
       "    </tr>\n",
       "  </thead>\n",
       "  <tbody>\n",
       "    <tr>\n",
       "      <th>0</th>\n",
       "      <td>female</td>\n",
       "      <td>group B</td>\n",
       "      <td>bachelor's degree</td>\n",
       "      <td>standard</td>\n",
       "      <td>none</td>\n",
       "      <td>72</td>\n",
       "      <td>72</td>\n",
       "      <td>74</td>\n",
       "      <td>1</td>\n",
       "      <td>gimpy zucchini caterpillar</td>\n",
       "    </tr>\n",
       "  </tbody>\n",
       "</table>\n",
       "</div>"
      ],
      "text/plain": [
       "   gender    group parental level of education     lunch  \\\n",
       "0  female  group B           bachelor's degree  standard   \n",
       "\n",
       "  english certification  math score  basic informatics score  \\\n",
       "0                  none          72                       72   \n",
       "\n",
       "   programming techniques score  code                        name  \n",
       "0                            74     1  gimpy zucchini caterpillar  "
      ]
     },
     "execution_count": 13,
     "metadata": {},
     "output_type": "execute_result"
    }
   ],
   "source": [
    "df[:1]"
   ]
  },
  {
   "cell_type": "code",
   "execution_count": 14,
   "metadata": {},
   "outputs": [
    {
     "name": "stdout",
     "output_type": "stream",
     "text": [
      "update gender to female\n",
      "update english certification to completed\n",
      "update math score to 76\n",
      "update basic informatics score to 95\n",
      "update programming techniques score to 80\n",
      "update code to 194060873\n",
      "update name to Nguyễn Đỗ Thanh Thùy\n"
     ]
    },
    {
     "data": {
      "text/html": [
       "<div>\n",
       "<style scoped>\n",
       "    .dataframe tbody tr th:only-of-type {\n",
       "        vertical-align: middle;\n",
       "    }\n",
       "\n",
       "    .dataframe tbody tr th {\n",
       "        vertical-align: top;\n",
       "    }\n",
       "\n",
       "    .dataframe thead th {\n",
       "        text-align: right;\n",
       "    }\n",
       "</style>\n",
       "<table border=\"1\" class=\"dataframe\">\n",
       "  <thead>\n",
       "    <tr style=\"text-align: right;\">\n",
       "      <th></th>\n",
       "      <th>gender</th>\n",
       "      <th>group</th>\n",
       "      <th>parental level of education</th>\n",
       "      <th>lunch</th>\n",
       "      <th>english certification</th>\n",
       "      <th>math score</th>\n",
       "      <th>basic informatics score</th>\n",
       "      <th>programming techniques score</th>\n",
       "      <th>code</th>\n",
       "      <th>name</th>\n",
       "    </tr>\n",
       "  </thead>\n",
       "  <tbody>\n",
       "    <tr>\n",
       "      <th>0</th>\n",
       "      <td>female</td>\n",
       "      <td>group B</td>\n",
       "      <td>bachelor's degree</td>\n",
       "      <td>standard</td>\n",
       "      <td>completed</td>\n",
       "      <td>76</td>\n",
       "      <td>95</td>\n",
       "      <td>80</td>\n",
       "      <td>194060873</td>\n",
       "      <td>Nguyễn Đỗ Thanh Thùy</td>\n",
       "    </tr>\n",
       "    <tr>\n",
       "      <th>1</th>\n",
       "      <td>female</td>\n",
       "      <td>group C</td>\n",
       "      <td>some college</td>\n",
       "      <td>standard</td>\n",
       "      <td>completed</td>\n",
       "      <td>69</td>\n",
       "      <td>90</td>\n",
       "      <td>88</td>\n",
       "      <td>2</td>\n",
       "      <td>homely pear owl</td>\n",
       "    </tr>\n",
       "  </tbody>\n",
       "</table>\n",
       "</div>"
      ],
      "text/plain": [
       "   gender    group parental level of education     lunch  \\\n",
       "0  female  group B           bachelor's degree  standard   \n",
       "1  female  group C                some college  standard   \n",
       "\n",
       "  english certification  math score  basic informatics score  \\\n",
       "0             completed          76                       95   \n",
       "1             completed          69                       90   \n",
       "\n",
       "   programming techniques score       code                  name  \n",
       "0                            80  194060873  Nguyễn Đỗ Thanh Thùy  \n",
       "1                            88          2       homely pear owl  "
      ]
     },
     "execution_count": 14,
     "metadata": {},
     "output_type": "execute_result"
    }
   ],
   "source": [
    "my_col = ['gender', 'english certification', 'math score', 'basic informatics score', 'programming techniques score', 'code', 'name']\n",
    "my_info = ['female', 'completed', 76, 95, 80, 194060873, 'Nguyễn Đỗ Thanh Thùy']\n",
    "for i in range(len(my_col)): \n",
    "    df.loc[0, my_col[i]] = my_info[i] \n",
    "    print('update {} to {}'.format(my_col[i], my_info[i]))\n",
    "df.head(2)"
   ]
  },
  {
   "cell_type": "markdown",
   "metadata": {},
   "source": [
    "3. Thuộc tính “lunch” bị sai sót do quá trình tổng hợp dữ liệu. Vui lòng xóa thuộc tính\n",
    "này và lưu lại tập dữ liệu dưới định dạng excel, đặt tên “mssv”. Trong đó, “mssv” chính là\n",
    "mã số sinh viên của Anh/Chị"
   ]
  },
  {
   "cell_type": "code",
   "execution_count": 30,
   "metadata": {},
   "outputs": [
    {
     "data": {
      "text/plain": [
       "Index(['gender', 'group', 'parental level of education',\n",
       "       'english certification', 'math score', 'basic informatics score',\n",
       "       'programming techniques score', 'code', 'name',\n",
       "       'basic informatics scoreprogramming techniques score'],\n",
       "      dtype='object')"
      ]
     },
     "execution_count": 30,
     "metadata": {},
     "output_type": "execute_result"
    }
   ],
   "source": [
    "#xóa 'lunch\n",
    "df.drop('lunch',axis=1, inplace=True)\n",
    "df.columns"
   ]
  },
  {
   "cell_type": "code",
   "execution_count": 34,
   "metadata": {},
   "outputs": [],
   "source": [
    "#lưu file excel\n",
    "df.to_excel('K194060873.xlsx', index=False)"
   ]
  },
  {
   "cell_type": "markdown",
   "metadata": {},
   "source": [
    "4. Dựa trên quy tắc tính điểm của UEL. Xác định số lượng sinh viên đạt kết quả “Giỏi”,\n",
    "“Khá”, “Trung Bình”, “Rớt” của môn toán cao cấp."
   ]
  },
  {
   "cell_type": "code",
   "execution_count": 42,
   "metadata": {},
   "outputs": [
    {
     "data": {
      "text/html": [
       "<div>\n",
       "<style scoped>\n",
       "    .dataframe tbody tr th:only-of-type {\n",
       "        vertical-align: middle;\n",
       "    }\n",
       "\n",
       "    .dataframe tbody tr th {\n",
       "        vertical-align: top;\n",
       "    }\n",
       "\n",
       "    .dataframe thead th {\n",
       "        text-align: right;\n",
       "    }\n",
       "</style>\n",
       "<table border=\"1\" class=\"dataframe\">\n",
       "  <thead>\n",
       "    <tr style=\"text-align: right;\">\n",
       "      <th></th>\n",
       "      <th>gender</th>\n",
       "      <th>group</th>\n",
       "      <th>parental level of education</th>\n",
       "      <th>english certification</th>\n",
       "      <th>math score</th>\n",
       "      <th>basic informatics score</th>\n",
       "      <th>programming techniques score</th>\n",
       "      <th>code</th>\n",
       "      <th>name</th>\n",
       "      <th>basic informatics scoreprogramming techniques score</th>\n",
       "      <th>math_rank</th>\n",
       "    </tr>\n",
       "  </thead>\n",
       "  <tbody>\n",
       "    <tr>\n",
       "      <th>0</th>\n",
       "      <td>female</td>\n",
       "      <td>group B</td>\n",
       "      <td>bachelor's degree</td>\n",
       "      <td>completed</td>\n",
       "      <td>76</td>\n",
       "      <td>72</td>\n",
       "      <td>74</td>\n",
       "      <td>80</td>\n",
       "      <td>194060873</td>\n",
       "      <td>95.0</td>\n",
       "      <td>Khá</td>\n",
       "    </tr>\n",
       "    <tr>\n",
       "      <th>1</th>\n",
       "      <td>female</td>\n",
       "      <td>group C</td>\n",
       "      <td>some college</td>\n",
       "      <td>completed</td>\n",
       "      <td>69</td>\n",
       "      <td>90</td>\n",
       "      <td>88</td>\n",
       "      <td>2</td>\n",
       "      <td>homely pear owl</td>\n",
       "      <td>NaN</td>\n",
       "      <td>Khá</td>\n",
       "    </tr>\n",
       "    <tr>\n",
       "      <th>2</th>\n",
       "      <td>female</td>\n",
       "      <td>group B</td>\n",
       "      <td>master's degree</td>\n",
       "      <td>none</td>\n",
       "      <td>90</td>\n",
       "      <td>95</td>\n",
       "      <td>93</td>\n",
       "      <td>3</td>\n",
       "      <td>woolly scarlet retriever</td>\n",
       "      <td>NaN</td>\n",
       "      <td>Giỏi</td>\n",
       "    </tr>\n",
       "    <tr>\n",
       "      <th>3</th>\n",
       "      <td>male</td>\n",
       "      <td>group A</td>\n",
       "      <td>associate's degree</td>\n",
       "      <td>none</td>\n",
       "      <td>47</td>\n",
       "      <td>57</td>\n",
       "      <td>44</td>\n",
       "      <td>4</td>\n",
       "      <td>stealthy silver mastiff</td>\n",
       "      <td>NaN</td>\n",
       "      <td>Rớt</td>\n",
       "    </tr>\n",
       "    <tr>\n",
       "      <th>4</th>\n",
       "      <td>male</td>\n",
       "      <td>group C</td>\n",
       "      <td>some college</td>\n",
       "      <td>none</td>\n",
       "      <td>76</td>\n",
       "      <td>78</td>\n",
       "      <td>75</td>\n",
       "      <td>5</td>\n",
       "      <td>surly aqua zorse</td>\n",
       "      <td>NaN</td>\n",
       "      <td>Khá</td>\n",
       "    </tr>\n",
       "  </tbody>\n",
       "</table>\n",
       "</div>"
      ],
      "text/plain": [
       "   gender    group parental level of education english certification  \\\n",
       "0  female  group B           bachelor's degree             completed   \n",
       "1  female  group C                some college             completed   \n",
       "2  female  group B             master's degree                  none   \n",
       "3    male  group A          associate's degree                  none   \n",
       "4    male  group C                some college                  none   \n",
       "\n",
       "   math score  basic informatics score  programming techniques score  code  \\\n",
       "0          76                       72                            74    80   \n",
       "1          69                       90                            88     2   \n",
       "2          90                       95                            93     3   \n",
       "3          47                       57                            44     4   \n",
       "4          76                       78                            75     5   \n",
       "\n",
       "                       name  \\\n",
       "0                 194060873   \n",
       "1           homely pear owl   \n",
       "2  woolly scarlet retriever   \n",
       "3   stealthy silver mastiff   \n",
       "4          surly aqua zorse   \n",
       "\n",
       "   basic informatics scoreprogramming techniques score math_rank  \n",
       "0                                               95.0         Khá  \n",
       "1                                                NaN         Khá  \n",
       "2                                                NaN        Giỏi  \n",
       "3                                                NaN         Rớt  \n",
       "4                                                NaN         Khá  "
      ]
     },
     "execution_count": 42,
     "metadata": {},
     "output_type": "execute_result"
    }
   ],
   "source": [
    "# df = df.assign(math_grade = lambda dataframe: dataframe['math score'].map(lambda x: 'Giỏi' if x >= 80 \n",
    "#     else 'Khá' if x >= 66 \n",
    "#     else 'Trung bình if x >= 50'\n",
    "#     else 'Rớt'))\n",
    "rank = []\n",
    "for row in df['math score']:\n",
    "    if row >= 80: \n",
    "        rank.append('Giỏi')\n",
    "    elif row >= 65: \n",
    "        rank.append('Khá')\n",
    "    elif row >=50:\n",
    "        rank.append(\"Trung bình\")\n",
    "    else: rank.append(\"Rớt\")\n",
    "df['math_rank'] = rank\n",
    "df.head()"
   ]
  },
  {
   "cell_type": "code",
   "execution_count": 119,
   "metadata": {},
   "outputs": [
    {
     "data": {
      "text/plain": [
       "math_rank\n",
       "Giỏi          193\n",
       "Khá           360\n",
       "Rớt           135\n",
       "Trung bình    312\n",
       "Name: code, dtype: int64"
      ]
     },
     "execution_count": 119,
     "metadata": {},
     "output_type": "execute_result"
    }
   ],
   "source": [
    "#số lượng sinh viên theo xếp hạng môn toán cao cấp\n",
    "df_math_rank = df.groupby('math_rank')['code'].count()\n",
    "df_math_rank"
   ]
  },
  {
   "cell_type": "markdown",
   "metadata": {},
   "source": [
    "5. Giả sử sinh viên được chia thành 3 nhóm dựa trên điểm kết khóa của môn kỹ thuật\n",
    "lập trình: - Nhóm cải thiện: Điểm kết khóa thuộc khoảng [0; 60)\n",
    "- Nhóm an phận: Điểm kết khóa thuộc khoảng [60; 80)\n",
    "- Nhóm xuất sắc: Điểm kết khóa thuộc nhóm [80; 100]"
   ]
  },
  {
   "cell_type": "code",
   "execution_count": 45,
   "metadata": {},
   "outputs": [],
   "source": [
    "programming_group = []\n",
    "for row in df['programming techniques score']:\n",
    "    if row >= 80:\n",
    "        programming_group.append('Xuất sắc')\n",
    "    elif row >= 60:\n",
    "        programming_group.append('An phận')\n",
    "    else: programming_group.append('Cải thiện')\n",
    "df['programming_group'] = programming_group"
   ]
  },
  {
   "cell_type": "code",
   "execution_count": 81,
   "metadata": {},
   "outputs": [
    {
     "data": {
      "text/plain": [
       "programming_group\n",
       "An phận      484\n",
       "Cải thiện    281\n",
       "Xuất sắc     235\n",
       "Name: code, dtype: int64"
      ]
     },
     "execution_count": 81,
     "metadata": {},
     "output_type": "execute_result"
    }
   ],
   "source": [
    "df_pie = df.groupby('programming_group')['code'].count()\n",
    "df_pie"
   ]
  },
  {
   "cell_type": "code",
   "execution_count": 115,
   "metadata": {},
   "outputs": [
    {
     "data": {
      "image/png": "[encoded data removed]",
      "text/plain": [
       "<Figure size 720x576 with 1 Axes>"
      ]
     },
     "metadata": {
      "needs_background": "light"
     },
     "output_type": "display_data"
    }
   ],
   "source": [
    "fig,ax = plt.subplots()\n",
    "ax.bar(df_pie.index, df_pie)\n",
    "plt.title('Tỉ lệ sinh viên ở các nhóm điểm của môn kĩ thuật lập trình')\n",
    "plt.show()"
   ]
  },
  {
   "cell_type": "markdown",
   "metadata": {},
   "source": [
    "6. Anh/Chị hãy đọc dữ liệu và xác định kiểu dữ liệu mà API trả về.\n",
    "URL: https://mocki.io/v1/da1bd764-8d57-49e0-b4fe-88d435da6575"
   ]
  },
  {
   "cell_type": "code",
   "execution_count": 76,
   "metadata": {},
   "outputs": [
    {
     "name": "stdout",
     "output_type": "stream",
     "text": [
      "Kiểu dữ liệu <class 'dict'>\n",
      "     group    geo.area               geo.domain\n",
      "0  group A    Mien Bac               Tay Bac Bo\n",
      "1  group B    Mien Bac              Dong Bac Bo\n",
      "2  group C  Mien Trung             Bac Trung Bo\n",
      "3  group D    Mien Nam              Dong Nam Bo\n",
      "4  group E    Mien Nam  Dong bang song Cuu Long\n"
     ]
    }
   ],
   "source": [
    "url = \"https://mocki.io/v1/da1bd764-8d57-49e0-b4fe-88d435da6575\"\n",
    "\n",
    "payload={}\n",
    "headers = {}\n",
    "\n",
    "response = requests.request(\"GET\", url, headers=headers, data=payload)\n",
    "\n",
    "if response.status_code == 200:\n",
    "    js_geo= response.json()\n",
    "    print('Kiểu dữ liệu',type(js_geo))\n",
    "    df_geo = pd.json_normalize(js_geo, record_path='data')\n",
    "    print(df_geo)\n",
    "else:\n",
    "    print('Truy xuất bị lỗi - {response.status_code}, vui lòng thử lại sau')"
   ]
  },
  {
   "cell_type": "code",
   "execution_count": 77,
   "metadata": {},
   "outputs": [
    {
     "name": "stdout",
     "output_type": "stream",
     "text": [
      "<class 'pandas.core.frame.DataFrame'>\n",
      "RangeIndex: 5 entries, 0 to 4\n",
      "Data columns (total 3 columns):\n",
      " #   Column      Non-Null Count  Dtype \n",
      "---  ------      --------------  ----- \n",
      " 0   group       5 non-null      object\n",
      " 1   geo.area    5 non-null      object\n",
      " 2   geo.domain  5 non-null      object\n",
      "dtypes: object(3)\n",
      "memory usage: 248.0+ bytes\n"
     ]
    }
   ],
   "source": [
    "df_geo.info()"
   ]
  },
  {
   "cell_type": "markdown",
   "metadata": {},
   "source": [
    "7. Vẽ biểu đồ tròn thể hiện số lượng sinh viên theo miền với đầy đủ định dạng như tiêu\n",
    "đề, legend, số lượng thể hiện dưới dạng tuyệt đối và tỉ lệ phần trăm. (2đ)"
   ]
  },
  {
   "cell_type": "code",
   "execution_count": 78,
   "metadata": {},
   "outputs": [
    {
     "data": {
      "text/html": [
       "<div>\n",
       "<style scoped>\n",
       "    .dataframe tbody tr th:only-of-type {\n",
       "        vertical-align: middle;\n",
       "    }\n",
       "\n",
       "    .dataframe tbody tr th {\n",
       "        vertical-align: top;\n",
       "    }\n",
       "\n",
       "    .dataframe thead th {\n",
       "        text-align: right;\n",
       "    }\n",
       "</style>\n",
       "<table border=\"1\" class=\"dataframe\">\n",
       "  <thead>\n",
       "    <tr style=\"text-align: right;\">\n",
       "      <th></th>\n",
       "      <th>gender</th>\n",
       "      <th>group</th>\n",
       "      <th>parental level of education</th>\n",
       "      <th>english certification</th>\n",
       "      <th>math score</th>\n",
       "      <th>basic informatics score</th>\n",
       "      <th>programming techniques score</th>\n",
       "      <th>code</th>\n",
       "      <th>name</th>\n",
       "      <th>basic informatics scoreprogramming techniques score</th>\n",
       "      <th>math_rank</th>\n",
       "      <th>programming_group</th>\n",
       "      <th>geo.area</th>\n",
       "      <th>geo.domain</th>\n",
       "    </tr>\n",
       "  </thead>\n",
       "  <tbody>\n",
       "    <tr>\n",
       "      <th>0</th>\n",
       "      <td>female</td>\n",
       "      <td>group B</td>\n",
       "      <td>bachelor's degree</td>\n",
       "      <td>completed</td>\n",
       "      <td>76</td>\n",
       "      <td>72</td>\n",
       "      <td>74</td>\n",
       "      <td>80</td>\n",
       "      <td>194060873</td>\n",
       "      <td>95.0</td>\n",
       "      <td>Khá</td>\n",
       "      <td>An phận</td>\n",
       "      <td>Mien Bac</td>\n",
       "      <td>Dong Bac Bo</td>\n",
       "    </tr>\n",
       "    <tr>\n",
       "      <th>1</th>\n",
       "      <td>female</td>\n",
       "      <td>group C</td>\n",
       "      <td>some college</td>\n",
       "      <td>completed</td>\n",
       "      <td>69</td>\n",
       "      <td>90</td>\n",
       "      <td>88</td>\n",
       "      <td>2</td>\n",
       "      <td>homely pear owl</td>\n",
       "      <td>NaN</td>\n",
       "      <td>Khá</td>\n",
       "      <td>Xuất sắc</td>\n",
       "      <td>Mien Trung</td>\n",
       "      <td>Bac Trung Bo</td>\n",
       "    </tr>\n",
       "    <tr>\n",
       "      <th>2</th>\n",
       "      <td>female</td>\n",
       "      <td>group B</td>\n",
       "      <td>master's degree</td>\n",
       "      <td>none</td>\n",
       "      <td>90</td>\n",
       "      <td>95</td>\n",
       "      <td>93</td>\n",
       "      <td>3</td>\n",
       "      <td>woolly scarlet retriever</td>\n",
       "      <td>NaN</td>\n",
       "      <td>Giỏi</td>\n",
       "      <td>Xuất sắc</td>\n",
       "      <td>Mien Bac</td>\n",
       "      <td>Dong Bac Bo</td>\n",
       "    </tr>\n",
       "    <tr>\n",
       "      <th>3</th>\n",
       "      <td>male</td>\n",
       "      <td>group A</td>\n",
       "      <td>associate's degree</td>\n",
       "      <td>none</td>\n",
       "      <td>47</td>\n",
       "      <td>57</td>\n",
       "      <td>44</td>\n",
       "      <td>4</td>\n",
       "      <td>stealthy silver mastiff</td>\n",
       "      <td>NaN</td>\n",
       "      <td>Rớt</td>\n",
       "      <td>Cải thiện</td>\n",
       "      <td>Mien Bac</td>\n",
       "      <td>Tay Bac Bo</td>\n",
       "    </tr>\n",
       "    <tr>\n",
       "      <th>4</th>\n",
       "      <td>male</td>\n",
       "      <td>group C</td>\n",
       "      <td>some college</td>\n",
       "      <td>none</td>\n",
       "      <td>76</td>\n",
       "      <td>78</td>\n",
       "      <td>75</td>\n",
       "      <td>5</td>\n",
       "      <td>surly aqua zorse</td>\n",
       "      <td>NaN</td>\n",
       "      <td>Khá</td>\n",
       "      <td>An phận</td>\n",
       "      <td>Mien Trung</td>\n",
       "      <td>Bac Trung Bo</td>\n",
       "    </tr>\n",
       "  </tbody>\n",
       "</table>\n",
       "</div>"
      ],
      "text/plain": [
       "   gender    group parental level of education english certification  \\\n",
       "0  female  group B           bachelor's degree             completed   \n",
       "1  female  group C                some college             completed   \n",
       "2  female  group B             master's degree                  none   \n",
       "3    male  group A          associate's degree                  none   \n",
       "4    male  group C                some college                  none   \n",
       "\n",
       "   math score  basic informatics score  programming techniques score  code  \\\n",
       "0          76                       72                            74    80   \n",
       "1          69                       90                            88     2   \n",
       "2          90                       95                            93     3   \n",
       "3          47                       57                            44     4   \n",
       "4          76                       78                            75     5   \n",
       "\n",
       "                       name  \\\n",
       "0                 194060873   \n",
       "1           homely pear owl   \n",
       "2  woolly scarlet retriever   \n",
       "3   stealthy silver mastiff   \n",
       "4          surly aqua zorse   \n",
       "\n",
       "   basic informatics scoreprogramming techniques score math_rank  \\\n",
       "0                                               95.0         Khá   \n",
       "1                                                NaN         Khá   \n",
       "2                                                NaN        Giỏi   \n",
       "3                                                NaN         Rớt   \n",
       "4                                                NaN         Khá   \n",
       "\n",
       "  programming_group    geo.area    geo.domain  \n",
       "0           An phận    Mien Bac   Dong Bac Bo  \n",
       "1          Xuất sắc  Mien Trung  Bac Trung Bo  \n",
       "2          Xuất sắc    Mien Bac   Dong Bac Bo  \n",
       "3         Cải thiện    Mien Bac    Tay Bac Bo  \n",
       "4           An phận  Mien Trung  Bac Trung Bo  "
      ]
     },
     "execution_count": 78,
     "metadata": {},
     "output_type": "execute_result"
    }
   ],
   "source": [
    "df = df.merge(df_geo, how='left', left_on='group', right_on='group')\n",
    "df.head()"
   ]
  },
  {
   "cell_type": "code",
   "execution_count": 86,
   "metadata": {},
   "outputs": [
    {
     "data": {
      "text/plain": [
       "geo.area\n",
       "Mien Nam      402\n",
       "Mien Trung    319\n",
       "Mien Bac      279\n",
       "dtype: int64"
      ]
     },
     "execution_count": 86,
     "metadata": {},
     "output_type": "execute_result"
    }
   ],
   "source": [
    "df_students_area = df.value_counts('geo.area')\n",
    "df_students_area"
   ]
  },
  {
   "cell_type": "code",
   "execution_count": 107,
   "metadata": {},
   "outputs": [
    {
     "data": {
      "text/plain": [
       "1000"
      ]
     },
     "execution_count": 107,
     "metadata": {},
     "output_type": "execute_result"
    }
   ],
   "source": [
    "df_students_area.sum()"
   ]
  },
  {
   "cell_type": "code",
   "execution_count": 114,
   "metadata": {},
   "outputs": [
    {
     "data": {
      "image/png": "[encoded data removed]",
      "text/plain": [
       "<Figure size 720x576 with 1 Axes>"
      ]
     },
     "metadata": {},
     "output_type": "display_data"
    }
   ],
   "source": [
    "fig,ax = plt.subplots()\n",
    "p, tx, autotexts = ax.pie(df_students_area, labels= df_students_area.index, autopct='%1.2f%%')\n",
    "for i, a in enumerate(autotexts):\n",
    "    a.set_text(\"{0} - {1:.2f}%\".format(df_students_area[i], (df_students_area[i]/df_students_area.sum()*100)))\n",
    "ax.legend()\n",
    "plt.title('Tỉ lệ sinh viên ở các vùng miền')\n",
    "plt.show()"
   ]
  },
  {
   "cell_type": "markdown",
   "metadata": {},
   "source": [
    "8. Xác định một “Insight” mà Anh/Chị cảm thấy hữu ích, cần khuyến nghị cho người\n",
    "quản trị dữ liệu/chủ doanh nghiệp/các bên liên quan ... Minh họa dựa trên hình ảnh, bảng\n",
    "biểu và các giải thích, khuyến nghị kèm theo."
   ]
  },
  {
   "cell_type": "code",
   "execution_count": 122,
   "metadata": {},
   "outputs": [
    {
     "data": {
      "image/png": "[encoded data removed]",
      "text/plain": [
       "<Figure size 720x576 with 1 Axes>"
      ]
     },
     "metadata": {
      "needs_background": "light"
     },
     "output_type": "display_data"
    }
   ],
   "source": [
    "fig,ax = plt.subplots()\n",
    "ax.bar(df_math_rank.index, df_math_rank)\n",
    "plt.show('Xếp hạng của sinh viên học môn toán cao cấp')\n",
    "plt.show()"
   ]
  },
  {
   "cell_type": "code",
   "execution_count": 125,
   "metadata": {},
   "outputs": [
    {
     "data": {
      "image/png": "[encoded data removed]",
      "text/plain": [
       "<Figure size 720x576 with 1 Axes>"
      ]
     },
     "metadata": {},
     "output_type": "display_data"
    }
   ],
   "source": [
    "fig,ax = plt.subplots()\n",
    "ax.pie(df_math_rank, labels=df_math_rank.index, autopct='%1.2f%%')\n",
    "plt.show('Xếp hạng của sinh viên học môn toán cao cấp')\n",
    "plt.show()"
   ]
  },
  {
   "cell_type": "markdown",
   "metadata": {},
   "source": [
    "Tuy số lượng sinh viên rớt và trung bình không vượt"
   ]
  }
 ],
 "metadata": {
  "kernelspec": {
   "display_name": "Python 3.9.12 ('base')",
   "language": "python",
   "name": "python3"
  },
  "language_info": {
   "codemirror_mode": {
    "name": "ipython",
    "version": 3
   },
   "file_extension": ".py",
   "mimetype": "text/x-python",
   "name": "python",
   "nbconvert_exporter": "python",
   "pygments_lexer": "ipython3",
   "version": "3.9.12"
  },
  "orig_nbformat": 4,
  "vscode": {
   "interpreter": {
    "hash": "dc07d24e2f18896857f0b2a651fe84ba40ce7b297e58d8804a308c8039f752a6"
   }
  }
 },
 "nbformat": 4,
 "nbformat_minor": 2
}
