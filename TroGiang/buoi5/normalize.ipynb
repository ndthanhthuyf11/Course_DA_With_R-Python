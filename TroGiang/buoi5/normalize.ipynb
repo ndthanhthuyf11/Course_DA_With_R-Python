{
 "cells": [
  {
   "cell_type": "code",
   "execution_count": 1,
   "metadata": {},
   "outputs": [],
   "source": [
    "import pandas as pd"
   ]
  },
  {
   "cell_type": "code",
   "execution_count": 19,
   "metadata": {},
   "outputs": [
    {
     "name": "stdout",
     "output_type": "stream",
     "text": [
      "<class 'list'>\n",
      "True\n"
     ]
    }
   ],
   "source": [
    "json_sv=[\n",
    "{\n",
    "    'name': 'Nguyễn Đỗ Thanh Thùy',\n",
    "    'class': 'K19406C',\n",
    "    'birthday': {\n",
    "        'year': 2001,\n",
    "        'month': 11,\n",
    "        'day': 1\n",
    "    },\n",
    "    'province': 'Quảng Ngãi',\n",
    "    'gender': False\n",
    "},\n",
    "{\n",
    "    'name': 'Bùi Thái Minh',\n",
    "    'class': 'K19406C',\n",
    "    'birthday': 2001,\n",
    "    'province': 'Thái Bình',\n",
    "    'gender': True,\n",
    "    'code': 'K15411106'\n",
    "}]\n",
    "print(type(json_sv))\n",
    "print(json_sv[1]['gender'])"
   ]
  },
  {
   "cell_type": "code",
   "execution_count": 20,
   "metadata": {},
   "outputs": [
    {
     "data": {
      "text/html": [
       "<div>\n",
       "<style scoped>\n",
       "    .dataframe tbody tr th:only-of-type {\n",
       "        vertical-align: middle;\n",
       "    }\n",
       "\n",
       "    .dataframe tbody tr th {\n",
       "        vertical-align: top;\n",
       "    }\n",
       "\n",
       "    .dataframe thead th {\n",
       "        text-align: right;\n",
       "    }\n",
       "</style>\n",
       "<table border=\"1\" class=\"dataframe\">\n",
       "  <thead>\n",
       "    <tr style=\"text-align: right;\">\n",
       "      <th></th>\n",
       "      <th>name</th>\n",
       "      <th>class</th>\n",
       "      <th>province</th>\n",
       "      <th>gender</th>\n",
       "      <th>birthday.year</th>\n",
       "      <th>birthday.month</th>\n",
       "      <th>birthday.day</th>\n",
       "      <th>birthday</th>\n",
       "      <th>code</th>\n",
       "    </tr>\n",
       "  </thead>\n",
       "  <tbody>\n",
       "    <tr>\n",
       "      <th>0</th>\n",
       "      <td>Nguyễn Đỗ Thanh Thùy</td>\n",
       "      <td>K19406C</td>\n",
       "      <td>Quảng Ngãi</td>\n",
       "      <td>False</td>\n",
       "      <td>2001.0</td>\n",
       "      <td>11.0</td>\n",
       "      <td>1.0</td>\n",
       "      <td>NaN</td>\n",
       "      <td>NaN</td>\n",
       "    </tr>\n",
       "    <tr>\n",
       "      <th>1</th>\n",
       "      <td>Bùi Thái Minh</td>\n",
       "      <td>K19406C</td>\n",
       "      <td>Thái Bình</td>\n",
       "      <td>True</td>\n",
       "      <td>NaN</td>\n",
       "      <td>NaN</td>\n",
       "      <td>NaN</td>\n",
       "      <td>2001.0</td>\n",
       "      <td>K15411106</td>\n",
       "    </tr>\n",
       "  </tbody>\n",
       "</table>\n",
       "</div>"
      ],
      "text/plain": [
       "                   name    class    province  gender  birthday.year  \\\n",
       "0  Nguyễn Đỗ Thanh Thùy  K19406C  Quảng Ngãi   False         2001.0   \n",
       "1         Bùi Thái Minh  K19406C   Thái Bình    True            NaN   \n",
       "\n",
       "   birthday.month  birthday.day  birthday       code  \n",
       "0            11.0           1.0       NaN        NaN  \n",
       "1             NaN           NaN    2001.0  K15411106  "
      ]
     },
     "execution_count": 20,
     "metadata": {},
     "output_type": "execute_result"
    }
   ],
   "source": [
    "df_sv = pd.json_normalize(json_sv)\n",
    "df_sv"
   ]
  },
  {
   "cell_type": "code",
   "execution_count": 47,
   "metadata": {},
   "outputs": [
    {
     "data": {
      "text/html": [
       "<div>\n",
       "<style scoped>\n",
       "    .dataframe tbody tr th:only-of-type {\n",
       "        vertical-align: middle;\n",
       "    }\n",
       "\n",
       "    .dataframe tbody tr th {\n",
       "        vertical-align: top;\n",
       "    }\n",
       "\n",
       "    .dataframe thead th {\n",
       "        text-align: right;\n",
       "    }\n",
       "</style>\n",
       "<table border=\"1\" class=\"dataframe\">\n",
       "  <thead>\n",
       "    <tr style=\"text-align: right;\">\n",
       "      <th></th>\n",
       "      <th>name</th>\n",
       "      <th>gender</th>\n",
       "      <th>class</th>\n",
       "    </tr>\n",
       "  </thead>\n",
       "  <tbody>\n",
       "    <tr>\n",
       "      <th>0</th>\n",
       "      <td>A</td>\n",
       "      <td>True</td>\n",
       "      <td>K19406C</td>\n",
       "    </tr>\n",
       "    <tr>\n",
       "      <th>1</th>\n",
       "      <td>B</td>\n",
       "      <td>False</td>\n",
       "      <td>K19406C</td>\n",
       "    </tr>\n",
       "    <tr>\n",
       "      <th>2</th>\n",
       "      <td>C</td>\n",
       "      <td>NaN</td>\n",
       "      <td>K19406C</td>\n",
       "    </tr>\n",
       "    <tr>\n",
       "      <th>3</th>\n",
       "      <td>A</td>\n",
       "      <td>True</td>\n",
       "      <td>K19411</td>\n",
       "    </tr>\n",
       "    <tr>\n",
       "      <th>4</th>\n",
       "      <td>B</td>\n",
       "      <td>False</td>\n",
       "      <td>K19411</td>\n",
       "    </tr>\n",
       "    <tr>\n",
       "      <th>5</th>\n",
       "      <td>C</td>\n",
       "      <td>NaN</td>\n",
       "      <td>K19411</td>\n",
       "    </tr>\n",
       "  </tbody>\n",
       "</table>\n",
       "</div>"
      ],
      "text/plain": [
       "  name gender    class\n",
       "0    A   True  K19406C\n",
       "1    B  False  K19406C\n",
       "2    C    NaN  K19406C\n",
       "3    A   True   K19411\n",
       "4    B  False   K19411\n",
       "5    C    NaN   K19411"
      ]
     },
     "execution_count": 47,
     "metadata": {},
     "output_type": "execute_result"
    }
   ],
   "source": [
    "json_httt=[\n",
    "    {\n",
    "    'class': 'K19406C',\n",
    "    'students':[\n",
    "        {\n",
    "            'name': 'A',\n",
    "            'gender': True\n",
    "        },\n",
    "        {\n",
    "            'name': 'B',\n",
    "            'gender': False\n",
    "        },\n",
    "        {\n",
    "            'name': 'C'\n",
    "        }]\n",
    "    },\n",
    "    {\n",
    "    'class': 'K19411',\n",
    "    'students':[\n",
    "        {\n",
    "            'name': 'A',\n",
    "            'gender': True\n",
    "        },\n",
    "        {\n",
    "            'name': 'B',\n",
    "            'gender': False\n",
    "        },\n",
    "        {\n",
    "            'name': 'C'\n",
    "        }]\n",
    "    },\n",
    "]\n",
    "df_httt = pd.json_normalize(json_httt, record_path=['students'], meta=['class'])\n",
    "df_httt"
   ]
  },
  {
   "cell_type": "code",
   "execution_count": 52,
   "metadata": {},
   "outputs": [
    {
     "data": {
      "text/plain": [
       "class\n",
       "K19406C    3\n",
       "K19411     3\n",
       "Name: name, dtype: int64"
      ]
     },
     "execution_count": 52,
     "metadata": {},
     "output_type": "execute_result"
    }
   ],
   "source": [
    "df_httt.groupby('class')['name'].count()"
   ]
  },
  {
   "cell_type": "code",
   "execution_count": 62,
   "metadata": {},
   "outputs": [
    {
     "data": {
      "text/html": [
       "<div>\n",
       "<style scoped>\n",
       "    .dataframe tbody tr th:only-of-type {\n",
       "        vertical-align: middle;\n",
       "    }\n",
       "\n",
       "    .dataframe tbody tr th {\n",
       "        vertical-align: top;\n",
       "    }\n",
       "\n",
       "    .dataframe thead th {\n",
       "        text-align: right;\n",
       "    }\n",
       "</style>\n",
       "<table border=\"1\" class=\"dataframe\">\n",
       "  <thead>\n",
       "    <tr style=\"text-align: right;\">\n",
       "      <th></th>\n",
       "      <th>class</th>\n",
       "      <th>students</th>\n",
       "      <th>student_count</th>\n",
       "    </tr>\n",
       "  </thead>\n",
       "  <tbody>\n",
       "    <tr>\n",
       "      <th>0</th>\n",
       "      <td>K19406C</td>\n",
       "      <td>[{'name': 'A', 'gender': True}, {'name': 'B', ...</td>\n",
       "      <td>3</td>\n",
       "    </tr>\n",
       "    <tr>\n",
       "      <th>1</th>\n",
       "      <td>K19411</td>\n",
       "      <td>[{'name': 'A', 'gender': True}, {'name': 'B', ...</td>\n",
       "      <td>3</td>\n",
       "    </tr>\n",
       "  </tbody>\n",
       "</table>\n",
       "</div>"
      ],
      "text/plain": [
       "     class                                           students  student_count\n",
       "0  K19406C  [{'name': 'A', 'gender': True}, {'name': 'B', ...              3\n",
       "1   K19411  [{'name': 'A', 'gender': True}, {'name': 'B', ...              3"
      ]
     },
     "execution_count": 62,
     "metadata": {},
     "output_type": "execute_result"
    }
   ],
   "source": [
    "df_sv =pd.json_normalize(json_httt)\n",
    "df_sv['student_count'] = df_sv['students'].apply(lambda x : len(x))\n",
    "df_sv"
   ]
  },
  {
   "cell_type": "code",
   "execution_count": null,
   "metadata": {},
   "outputs": [],
   "source": []
  }
 ],
 "metadata": {
  "kernelspec": {
   "display_name": "Python 3.9.12 ('base')",
   "language": "python",
   "name": "python3"
  },
  "language_info": {
   "codemirror_mode": {
    "name": "ipython",
    "version": 3
   },
   "file_extension": ".py",
   "mimetype": "text/x-python",
   "name": "python",
   "nbconvert_exporter": "python",
   "pygments_lexer": "ipython3",
   "version": "3.9.12"
  },
  "orig_nbformat": 4,
  "vscode": {
   "interpreter": {
    "hash": "dc07d24e2f18896857f0b2a651fe84ba40ce7b297e58d8804a308c8039f752a6"
   }
  }
 },
 "nbformat": 4,
 "nbformat_minor": 2
}
