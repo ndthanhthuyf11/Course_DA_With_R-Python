{
 "cells": [
  {
   "cell_type": "code",
   "execution_count": 7,
   "metadata": {},
   "outputs": [],
   "source": [
    "import pandas as pd\n",
    "from sklearn.preprocessing import MinMaxScaler"
   ]
  },
  {
   "cell_type": "code",
   "execution_count": 6,
   "metadata": {},
   "outputs": [
    {
     "name": "stdout",
     "output_type": "stream",
     "text": [
      "    Col A  Col B  Col C  Col D\n",
      "0  180000    110   18.9   1400\n",
      "1  360000    905   23.4   1800\n",
      "2  230000    230   14.0   1300\n",
      "3   60000    450   13.5   1500\n"
     ]
    }
   ],
   "source": [
    "df = pd.DataFrame ([\n",
    "    [180000, 110, 18.9, 1400],\n",
    "    [360000, 905, 23.4, 1800],\n",
    "    [230000, 230, 14.0, 1300],\n",
    "    [60000, 450, 13.5, 1500]],\n",
    "    columns=['Col A', 'Col B', 'Col C', 'Col D']\n",
    ")\n",
    "print(df)"
   ]
  },
  {
   "cell_type": "code",
   "execution_count": 16,
   "metadata": {},
   "outputs": [
    {
     "data": {
      "text/plain": [
       "array([[0.4       , 0.        , 0.54545455, 0.2       ],\n",
       "       [1.        , 1.        , 1.        , 1.        ],\n",
       "       [0.56666667, 0.1509434 , 0.05050505, 0.        ],\n",
       "       [0.        , 0.42767296, 0.        , 0.4       ]])"
      ]
     },
     "execution_count": 16,
     "metadata": {},
     "output_type": "execute_result"
    }
   ],
   "source": [
    "scaler = MinMaxScaler()\n",
    "df_ft = df.copy()\n",
    "df_tf = scaler.fit_transform(df_tf)\n",
    "df_tf"
   ]
  },
  {
   "cell_type": "code",
   "execution_count": 17,
   "metadata": {},
   "outputs": [
    {
     "data": {
      "text/html": [
       "<div>\n",
       "<style scoped>\n",
       "    .dataframe tbody tr th:only-of-type {\n",
       "        vertical-align: middle;\n",
       "    }\n",
       "\n",
       "    .dataframe tbody tr th {\n",
       "        vertical-align: top;\n",
       "    }\n",
       "\n",
       "    .dataframe thead th {\n",
       "        text-align: right;\n",
       "    }\n",
       "</style>\n",
       "<table border=\"1\" class=\"dataframe\">\n",
       "  <thead>\n",
       "    <tr style=\"text-align: right;\">\n",
       "      <th></th>\n",
       "      <th>Col A</th>\n",
       "      <th>Col B</th>\n",
       "      <th>Col C</th>\n",
       "      <th>Col D</th>\n",
       "    </tr>\n",
       "  </thead>\n",
       "  <tbody>\n",
       "    <tr>\n",
       "      <th>0</th>\n",
       "      <td>0.500000</td>\n",
       "      <td>0.121547</td>\n",
       "      <td>0.807692</td>\n",
       "      <td>0.777778</td>\n",
       "    </tr>\n",
       "    <tr>\n",
       "      <th>1</th>\n",
       "      <td>1.000000</td>\n",
       "      <td>1.000000</td>\n",
       "      <td>1.000000</td>\n",
       "      <td>1.000000</td>\n",
       "    </tr>\n",
       "    <tr>\n",
       "      <th>2</th>\n",
       "      <td>0.638889</td>\n",
       "      <td>0.254144</td>\n",
       "      <td>0.598291</td>\n",
       "      <td>0.722222</td>\n",
       "    </tr>\n",
       "    <tr>\n",
       "      <th>3</th>\n",
       "      <td>0.166667</td>\n",
       "      <td>0.497238</td>\n",
       "      <td>0.576923</td>\n",
       "      <td>0.833333</td>\n",
       "    </tr>\n",
       "  </tbody>\n",
       "</table>\n",
       "</div>"
      ],
      "text/plain": [
       "      Col A     Col B     Col C     Col D\n",
       "0  0.500000  0.121547  0.807692  0.777778\n",
       "1  1.000000  1.000000  1.000000  1.000000\n",
       "2  0.638889  0.254144  0.598291  0.722222\n",
       "3  0.166667  0.497238  0.576923  0.833333"
      ]
     },
     "execution_count": 17,
     "metadata": {},
     "output_type": "execute_result"
    }
   ],
   "source": [
    "for col in df.columns:\n",
    "    df[col] = df[col]/df[col].abs().max()\n",
    "df"
   ]
  },
  {
   "cell_type": "code",
   "execution_count": null,
   "metadata": {},
   "outputs": [],
   "source": []
  }
 ],
 "metadata": {
  "kernelspec": {
   "display_name": "Python 3.9.12 ('base')",
   "language": "python",
   "name": "python3"
  },
  "language_info": {
   "codemirror_mode": {
    "name": "ipython",
    "version": 3
   },
   "file_extension": ".py",
   "mimetype": "text/x-python",
   "name": "python",
   "nbconvert_exporter": "python",
   "pygments_lexer": "ipython3",
   "version": "3.9.12"
  },
  "orig_nbformat": 4,
  "vscode": {
   "interpreter": {
    "hash": "dc07d24e2f18896857f0b2a651fe84ba40ce7b297e58d8804a308c8039f752a6"
   }
  }
 },
 "nbformat": 4,
 "nbformat_minor": 2
}
