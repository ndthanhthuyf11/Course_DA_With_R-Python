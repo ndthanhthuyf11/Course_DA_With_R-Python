{
 "cells": [
  {
   "cell_type": "code",
   "execution_count": 1,
   "metadata": {},
   "outputs": [],
   "source": [
    "import pandas as pd"
   ]
  },
  {
   "cell_type": "code",
   "execution_count": 45,
   "metadata": {},
   "outputs": [],
   "source": [
    "#read dataset\n",
    "path = 'Sample Data.xls'\n",
    "sheet_order = 'Orders'\n",
    "sheet_product = 'Product'\n",
    "sheet_location = 'Location'\n",
    "sheet_customer = 'Customer'\n",
    "sheet_return = 'Returns'\n",
    "sheet_people = 'People'\n",
    "\n",
    "df_order = pd.read_excel(path, sheet_order).drop(['Row ID'], axis = 1)\n",
    "df_product = pd.read_excel(path, sheet_product).drop(['Row ID'], axis = 1)\n",
    "df_location = pd.read_excel(path, sheet_location).drop(['Row ID'], axis = 1)\n",
    "df_location = df_location.drop(142, axis=0)\n",
    "df_customer = pd.read_excel(path, sheet_customer).drop(['Row ID'], axis = 1)\n",
    "df_return = pd.read_excel(path, sheet_return)\n",
    "df_people = pd.read_excel(path, sheet_people).drop(['Row ID'], axis = 1)"
   ]
  },
  {
   "cell_type": "code",
   "execution_count": 46,
   "metadata": {},
   "outputs": [
    {
     "data": {
      "text/plain": [
       "(1862,)"
      ]
     },
     "execution_count": 46,
     "metadata": {},
     "output_type": "execute_result"
    }
   ],
   "source": [
    "#preprocessing\n",
    "df_product = df_product['Product ID'].drop_duplicates(keep='first')\n",
    "df_product.shape"
   ]
  },
  {
   "cell_type": "code",
   "execution_count": 47,
   "metadata": {},
   "outputs": [
    {
     "data": {
      "text/plain": [
       "(9994, 20)"
      ]
     },
     "execution_count": 47,
     "metadata": {},
     "output_type": "execute_result"
    }
   ],
   "source": [
    "#merge\n",
    "df_order = pd.merge(df_order, df_product, how='left', on='Product ID')\n",
    "df_order = pd.merge(df_order, df_location, how='left', on='Postal Code')\n",
    "df_order = pd.merge(df_order, df_customer, how='left', on='Customer ID')\n",
    "df_order = pd.merge(df_order, df_return, how='left', on='Order ID')\n",
    "df_order = pd.merge(df_order, df_people, how='left', on='Region')\n",
    "df_order.shape\n"
   ]
  },
  {
   "cell_type": "code",
   "execution_count": null,
   "metadata": {},
   "outputs": [],
   "source": [
    "df_order.to_csv('dataset.csv', index = False)"
   ]
  }
 ],
 "metadata": {
  "kernelspec": {
   "display_name": "Python 3.9.12 ('base')",
   "language": "python",
   "name": "python3"
  },
  "language_info": {
   "codemirror_mode": {
    "name": "ipython",
    "version": 3
   },
   "file_extension": ".py",
   "mimetype": "text/x-python",
   "name": "python",
   "nbconvert_exporter": "python",
   "pygments_lexer": "ipython3",
   "version": "3.9.12"
  },
  "orig_nbformat": 4,
  "vscode": {
   "interpreter": {
    "hash": "dc07d24e2f18896857f0b2a651fe84ba40ce7b297e58d8804a308c8039f752a6"
   }
  }
 },
 "nbformat": 4,
 "nbformat_minor": 2
}
